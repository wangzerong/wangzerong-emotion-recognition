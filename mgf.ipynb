{
 "cells": [
  {
   "cell_type": "code",
   "execution_count": 1,
   "metadata": {},
   "outputs": [
    {
     "ename": "OSError",
     "evalue": "libmegface.so: cannot open shared object file: No such file or directory",
     "output_type": "error",
     "traceback": [
      "\u001b[0;31m---------------------------------------------------------------------------\u001b[0m",
      "\u001b[0;31mOSError\u001b[0m                                   Traceback (most recent call last)",
      "\u001b[0;32m<ipython-input-1-47609bf205b3>\u001b[0m in \u001b[0;36m<module>\u001b[0;34m\u001b[0m\n\u001b[1;32m      1\u001b[0m \u001b[0;32mimport\u001b[0m \u001b[0mmgfpy\u001b[0m \u001b[0;32mas\u001b[0m \u001b[0mmgf\u001b[0m\u001b[0;34m\u001b[0m\u001b[0;34m\u001b[0m\u001b[0m\n\u001b[0;32m----> 2\u001b[0;31m \u001b[0mmgf\u001b[0m\u001b[0;34m.\u001b[0m\u001b[0mMegFace\u001b[0m\u001b[0;34m.\u001b[0m\u001b[0minit\u001b[0m\u001b[0;34m(\u001b[0m\u001b[0;34m)\u001b[0m\u001b[0;34m\u001b[0m\u001b[0;34m\u001b[0m\u001b[0m\n\u001b[0m\u001b[1;32m      3\u001b[0m \u001b[0;32mimport\u001b[0m \u001b[0mcv2\u001b[0m\u001b[0;34m\u001b[0m\u001b[0;34m\u001b[0m\u001b[0m\n\u001b[1;32m      4\u001b[0m \u001b[0;32mimport\u001b[0m \u001b[0msys\u001b[0m\u001b[0;34m\u001b[0m\u001b[0;34m\u001b[0m\u001b[0m\n\u001b[1;32m      5\u001b[0m \u001b[0;32mimport\u001b[0m \u001b[0mos\u001b[0m\u001b[0;34m\u001b[0m\u001b[0;34m\u001b[0m\u001b[0m\n",
      "\u001b[0;32m/opt/megface-v2/python/mgfpy/megcommon/megcommon.py\u001b[0m in \u001b[0;36minit\u001b[0;34m(self, so_file)\u001b[0m\n\u001b[1;32m     11\u001b[0m     \u001b[0;32mdef\u001b[0m \u001b[0minit\u001b[0m\u001b[0;34m(\u001b[0m\u001b[0mself\u001b[0m\u001b[0;34m,\u001b[0m \u001b[0mso_file\u001b[0m\u001b[0;34m=\u001b[0m\u001b[0;34m'libmegface.so'\u001b[0m\u001b[0;34m)\u001b[0m\u001b[0;34m:\u001b[0m\u001b[0;34m\u001b[0m\u001b[0;34m\u001b[0m\u001b[0m\n\u001b[1;32m     12\u001b[0m         \u001b[0;34m'''Initialize the object'''\u001b[0m\u001b[0;34m\u001b[0m\u001b[0;34m\u001b[0m\u001b[0m\n\u001b[0;32m---> 13\u001b[0;31m         \u001b[0mself\u001b[0m\u001b[0;34m.\u001b[0m\u001b[0m_lib\u001b[0m \u001b[0;34m=\u001b[0m \u001b[0mctypes\u001b[0m\u001b[0;34m.\u001b[0m\u001b[0mCDLL\u001b[0m\u001b[0;34m(\u001b[0m\u001b[0mso_file\u001b[0m\u001b[0;34m)\u001b[0m\u001b[0;34m\u001b[0m\u001b[0;34m\u001b[0m\u001b[0m\n\u001b[0m\u001b[1;32m     14\u001b[0m \u001b[0;34m\u001b[0m\u001b[0m\n\u001b[1;32m     15\u001b[0m         \u001b[0mself\u001b[0m\u001b[0;34m.\u001b[0m\u001b[0m_register_api\u001b[0m\u001b[0;34m(\u001b[0m\u001b[0;34m'MGF_release'\u001b[0m\u001b[0;34m,\u001b[0m \u001b[0;32mNone\u001b[0m\u001b[0;34m,\u001b[0m \u001b[0;34m[\u001b[0m\u001b[0mctypes\u001b[0m\u001b[0;34m.\u001b[0m\u001b[0mc_void_p\u001b[0m\u001b[0;34m]\u001b[0m\u001b[0;34m)\u001b[0m\u001b[0;34m\u001b[0m\u001b[0;34m\u001b[0m\u001b[0m\n",
      "\u001b[0;32m/usr/lib/python3.6/ctypes/__init__.py\u001b[0m in \u001b[0;36m__init__\u001b[0;34m(self, name, mode, handle, use_errno, use_last_error)\u001b[0m\n\u001b[1;32m    346\u001b[0m \u001b[0;34m\u001b[0m\u001b[0m\n\u001b[1;32m    347\u001b[0m         \u001b[0;32mif\u001b[0m \u001b[0mhandle\u001b[0m \u001b[0;32mis\u001b[0m \u001b[0;32mNone\u001b[0m\u001b[0;34m:\u001b[0m\u001b[0;34m\u001b[0m\u001b[0;34m\u001b[0m\u001b[0m\n\u001b[0;32m--> 348\u001b[0;31m             \u001b[0mself\u001b[0m\u001b[0;34m.\u001b[0m\u001b[0m_handle\u001b[0m \u001b[0;34m=\u001b[0m \u001b[0m_dlopen\u001b[0m\u001b[0;34m(\u001b[0m\u001b[0mself\u001b[0m\u001b[0;34m.\u001b[0m\u001b[0m_name\u001b[0m\u001b[0;34m,\u001b[0m \u001b[0mmode\u001b[0m\u001b[0;34m)\u001b[0m\u001b[0;34m\u001b[0m\u001b[0;34m\u001b[0m\u001b[0m\n\u001b[0m\u001b[1;32m    349\u001b[0m         \u001b[0;32melse\u001b[0m\u001b[0;34m:\u001b[0m\u001b[0;34m\u001b[0m\u001b[0;34m\u001b[0m\u001b[0m\n\u001b[1;32m    350\u001b[0m             \u001b[0mself\u001b[0m\u001b[0;34m.\u001b[0m\u001b[0m_handle\u001b[0m \u001b[0;34m=\u001b[0m \u001b[0mhandle\u001b[0m\u001b[0;34m\u001b[0m\u001b[0;34m\u001b[0m\u001b[0m\n",
      "\u001b[0;31mOSError\u001b[0m: libmegface.so: cannot open shared object file: No such file or directory"
     ]
    }
   ],
   "source": [
    "import mgfpy as mgf\n",
    "mgf.MegFace.init()\n",
    "import cv2\n",
    "import sys\n",
    "import os \n",
    "from meghair.utils import io\n",
    "import pickle\n",
    "MEGFACE_MODEL_PATH = '/opt/megface-v2/data'\n",
    "device_opt = {\n",
    "        'dev_type': mgf.DeviceType.MGF_GPU,\n",
    "        'dev_id': 0, 'stream_id': 0}\n",
    "path = '/data/jupyter/fyp/BiShe/RAFDB/test/'\n",
    "imgs = os.listdir(path)\n",
    "\n",
    "for img in imgs:\n",
    "    file_path = os.path.join(path, img)\n",
    "    cv2_img = cv2.imread(file_path)\n",
    "    try:\n",
    "        img = mgf.Image.from_cv2_image(cv2_img)\n",
    "    except:\n",
    "        print(filename)\n",
    "        exit()\n",
    "    detect_ctx = mgf.DetectorContext(os.path.join(MEGFACE_MODEL_PATH, 'detector.middle.v3.conf'),settings={'device': device_opt})\n",
    "    detect_ret = detect_ctx.detect(img)\n",
    "    #from IPython import embed;embed()\n",
    "    pickle.dump(detect_ret['items'][0]['landmark'],open(os.path.join(path,img+'.detect_ret'),'wb'))\n",
    "\n"
   ]
  },
  {
   "cell_type": "code",
   "execution_count": null,
   "metadata": {},
   "outputs": [],
   "source": [
    "import mgfpy as mgf\n",
    "mgf.MegFace.init()\n",
    "import cv2\n",
    "import sys\n",
    "import os \n",
    "from meghair.utils import io\n",
    "import pickle\n",
    "MEGFACE_MODEL_PATH = '/opt/megface-v2/data'\n",
    "device_opt = {\n",
    "        'dev_type': mgf.DeviceType.MGF_GPU,\n",
    "        'dev_id': 0, 'stream_id': 0}\n",
    "path = '/data/jupyter/fyp/BiShe/CK+YuanTu'\n",
    "classes = os.listdir(path)\n",
    "for c in classes:\n",
    "        filenames = os.listdir(os.path.join(path,c))\n",
    "        for filename in filenames:\n",
    "            #tmp = os.listdir(os.path.join(path,c,filename))\n",
    "            #for f in filename:\n",
    "            file_path = os.path.join(path,c,filename)\n",
    "            print(file_path)\n",
    "            cv2_img = cv2.imread(file_path)\n",
    "            try:\n",
    "                img = mgf.Image.from_cv2_image(cv2_img)\n",
    "            except:\n",
    "                #from IPython import embed;embed()\n",
    "                print(filename)\n",
    "                pass\n",
    "            detect_ctx = mgf.DetectorContext(os.path.join(MEGFACE_MODEL_PATH, 'detector.middle.v3.conf'),settings={'device': device_opt})\n",
    "            detect_ret = detect_ctx.detect(img)\n",
    "            #from IPython import embed;embed()\n",
    "            try:\n",
    "                pickle.dump(detect_ret['items'][0],open(os.path.join(path,c,filename+'.detect_ret'),'wb'))\n",
    "            except:\n",
    "                pass#from IPython import embed;embed()\n",
    "\n"
   ]
  },
  {
   "cell_type": "code",
   "execution_count": null,
   "metadata": {},
   "outputs": [],
   "source": []
  }
 ],
 "metadata": {
  "kernelspec": {
   "display_name": "Python 3",
   "language": "python",
   "name": "python3"
  },
  "language_info": {
   "codemirror_mode": {
    "name": "ipython",
    "version": 3
   },
   "file_extension": ".py",
   "mimetype": "text/x-python",
   "name": "python",
   "nbconvert_exporter": "python",
   "pygments_lexer": "ipython3",
   "version": "3.6.8"
  }
 },
 "nbformat": 4,
 "nbformat_minor": 4
}
