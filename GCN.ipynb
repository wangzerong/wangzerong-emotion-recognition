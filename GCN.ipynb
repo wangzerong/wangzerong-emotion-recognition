{
 "cells": [
  {
   "cell_type": "code",
   "execution_count": 1,
   "metadata": {},
   "outputs": [],
   "source": [
    "import torch\n",
    "from torch.nn.parameter import Parameter\n",
    "from torch.nn.modules.module import Module\n",
    "import torch.nn as nn\n",
    "import torch.nn.functional as F\n",
    "import numpy as np\n",
    "import math\n",
    "class GraphConvolution(Module):\n",
    "    \"\"\"\n",
    "    Simple GCN layer, similar to https://arxiv.org/abs/1609.02907\n",
    "    \"\"\"\n",
    "\n",
    "    def __init__(self,in_features, out_features, bias=True): #(shape256, 256)\n",
    "        super(GraphConvolution, self).__init__()\n",
    "        # (A*X*W)\n",
    "        self.in_features = in_features\n",
    "        self.out_features = out_features\n",
    "        self.weight = Parameter(torch.FloatTensor(in_features, out_features))\n",
    "        if bias:\n",
    "            self.bias = Parameter(torch.FloatTensor(out_features))\n",
    "        else:\n",
    "            self.register_parameter('bias', None)\n",
    "        self.reset_parameters()\n",
    "\n",
    "    def reset_parameters(self):\n",
    "        stdv = 1. / math.sqrt(self.weight.size(1))\n",
    "        self.weight.data.uniform_(-stdv, stdv)\n",
    "        if self.bias is not None:\n",
    "            self.bias.data.uniform_(-stdv, stdv)\n",
    "\n",
    "    def forward(self, x, adj):\n",
    "        # inputs (b,10,256)\n",
    "        # ajd (b,10,10)\n",
    "        x = x.view(-1,256)\n",
    "        support = torch.mm(x, self.weight) #(b*10,256)\n",
    "        support = support.view(-1,10,support.size(1))\n",
    "        output = torch.bmm(adj, support) #(b,10,10)*(b,10.256)  (b,10,256)\n",
    "        if self.bias is not None:\n",
    "            #print(output.shape,self.bias.shape)\n",
    "            return output + self.bias\n",
    "        else:\n",
    "            return output\n",
    "class GCN(nn.Module):\n",
    "    def __init__(self,nfeat):\n",
    "        super(GCN, self).__init__()\n",
    "        self.gc1 = GraphConvolution(nfeat, 256)\n",
    "        self.gc2 = GraphConvolution(256, 256)\n",
    "        self.fc1 = nn.Linear(256*10, 1024)\n",
    "        self.fc2 = nn.Linear(1024, 7)        \n",
    "        \n",
    "\n",
    "    def forward(self, x, adj):\n",
    "        x = F.relu(self.gc1(x, adj))\n",
    "#         x = F.dropout(x, 0.5)\n",
    "#         x = self.gc2(x, adj) #(-1,10,256)\n",
    "        x = x.view(x.size(0),-1)\n",
    "        x = self.fc1(x)\n",
    "        x = self.fc2(x)\n",
    "        out = F.softmax(x, dim=1)\n",
    "        return out\n",
    "\n",
    "\n",
    "    \n"
   ]
  },
  {
   "cell_type": "code",
   "execution_count": 12,
   "metadata": {},
   "outputs": [
    {
     "name": "stdout",
     "output_type": "stream",
     "text": [
      "load test done\n"
     ]
    }
   ],
   "source": [
    "import torch\n",
    "import torch.nn as nn\n",
    "# from torch.utils.data import DataLoader, TensorDataset\n",
    "# import torchvision.datasets as dsets\n",
    "# import torchvision.transforms as transforms\n",
    "from torch.autograd import Variable\n",
    "import pickle\n",
    "import numpy as np\n",
    "import random\n",
    "\n",
    "BATCH_SIZE = 4\n",
    "LEARNING_RATE = 0.001\n",
    "EPOCH = 300\n",
    "\n",
    "# with open('./raf_train.pkl', 'rb') as f:\n",
    "#      train_data = pickle.load(f)\n",
    "# print('load train done')\n",
    "\n",
    "with open('./raf_test.pkl', 'rb') as f:\n",
    "     test_data = pickle.load(f)\n",
    "print('load test done')\n",
    "\n",
    "# trainData = TensorDataset(torch.Tensor(train_data[2]), torch.LongTensor(train_data[0]))\n",
    "# # testData = TensorDataset(torch.Tensor(test_data[2]), torch.LongTensor(test_data[0]))\n",
    "# print('to tensor done')\n",
    "\n",
    "# trainLoader = DataLoader(dataset=trainData, batch_size=BATCH_SIZE, shuffle=True)\n",
    "# # testLoader = DataLoader(dataset=testData, batch_size=1, shuffle=False)\n",
    "# print('dataloader done')"
   ]
  },
  {
   "cell_type": "code",
   "execution_count": 13,
   "metadata": {},
   "outputs": [
    {
     "name": "stdout",
     "output_type": "stream",
     "text": [
      "1\n",
      "2\n",
      "3\n"
     ]
    }
   ],
   "source": [
    "# regions = torch.Tensor(train_data[2])# (12198,11,96,96,3)\n",
    "# print('1')\n",
    "# points = torch.Tensor(train_data[1])# (12198,10,2)\n",
    "# print('2')\n",
    "# labels = torch.LongTensor(train_data[0])#(12198)\n",
    "# print('3')\n",
    "\n",
    "regions = torch.Tensor(test_data[2])# (3068,11,96,96,3)\n",
    "print('1')\n",
    "points = torch.Tensor(test_data[1])# (3068,10,2)\n",
    "print('2')\n",
    "labels = torch.LongTensor(test_data[0])#(3608)\n",
    "print('3')"
   ]
  },
  {
   "cell_type": "code",
   "execution_count": 15,
   "metadata": {},
   "outputs": [],
   "source": [
    "re = regions[:, :10]"
   ]
  },
  {
   "cell_type": "code",
   "execution_count": 16,
   "metadata": {},
   "outputs": [
    {
     "data": {
      "text/plain": [
       "torch.Size([3068, 10, 96, 96, 3])"
      ]
     },
     "execution_count": 16,
     "metadata": {},
     "output_type": "execute_result"
    }
   ],
   "source": [
    "re.shape"
   ]
  },
  {
   "cell_type": "code",
   "execution_count": 34,
   "metadata": {},
   "outputs": [],
   "source": [
    "# index = [i for i in range(12198)]\n",
    "# random.shuffle(index)\n",
    "# for i in range(381):\n",
    "#     tmp = index[i*BATCH_SIZE:(i+1)*BATCH_SIZE]\n",
    "#     x = re[tmp]\n",
    "#     label = labels[tmp]\n",
    "#     point = points[tmp]"
   ]
  },
  {
   "cell_type": "code",
   "execution_count": 17,
   "metadata": {},
   "outputs": [],
   "source": [
    "def get_batch_graph(inp,k=8):\n",
    "    assert len(inp.shape) == 3\n",
    "    x=inp\n",
    "    norm1 = torch.sum(x**2,axis=2).reshape((x.shape[0],-1,1))\n",
    "    norm2 = torch.sum(x**2,axis=2).reshape((x.shape[0],1,-1))\n",
    "    dist = torch.bmm(x,x.permute(0,2,1))*(-2)+norm1+norm2\n",
    "    sigma2 = torch.mean(dist,axis=2).reshape(-1,10,1)\n",
    "    dist = torch.exp(-dist/sigma2)\n",
    "    return dist\n"
   ]
  },
  {
   "cell_type": "code",
   "execution_count": 18,
   "metadata": {},
   "outputs": [
    {
     "data": {
      "text/plain": [
       "torch.Size([3068, 10, 10])"
      ]
     },
     "execution_count": 18,
     "metadata": {},
     "output_type": "execute_result"
    }
   ],
   "source": [
    "adjs = get_batch_graph(points)\n",
    "adjs.shape"
   ]
  },
  {
   "cell_type": "code",
   "execution_count": 19,
   "metadata": {},
   "outputs": [
    {
     "data": {
      "text/plain": [
       "VGG16(\n",
       "  (layer1): Sequential(\n",
       "    (0): Conv2d(3, 64, kernel_size=(3, 3), stride=(1, 1), padding=(1, 1))\n",
       "    (1): BatchNorm2d(64, eps=1e-05, momentum=0.1, affine=True, track_running_stats=True)\n",
       "    (2): ReLU()\n",
       "    (3): Conv2d(64, 64, kernel_size=(3, 3), stride=(1, 1), padding=(1, 1))\n",
       "    (4): BatchNorm2d(64, eps=1e-05, momentum=0.1, affine=True, track_running_stats=True)\n",
       "    (5): ReLU()\n",
       "    (6): MaxPool2d(kernel_size=2, stride=2, padding=0, dilation=1, ceil_mode=False)\n",
       "  )\n",
       "  (layer2): Sequential(\n",
       "    (0): Conv2d(64, 128, kernel_size=(3, 3), stride=(1, 1), padding=(1, 1))\n",
       "    (1): BatchNorm2d(128, eps=1e-05, momentum=0.1, affine=True, track_running_stats=True)\n",
       "    (2): ReLU()\n",
       "    (3): Conv2d(128, 128, kernel_size=(3, 3), stride=(1, 1), padding=(1, 1))\n",
       "    (4): BatchNorm2d(128, eps=1e-05, momentum=0.1, affine=True, track_running_stats=True)\n",
       "    (5): ReLU()\n",
       "    (6): MaxPool2d(kernel_size=2, stride=2, padding=0, dilation=1, ceil_mode=False)\n",
       "  )\n",
       "  (layer3): Sequential(\n",
       "    (0): Conv2d(128, 256, kernel_size=(3, 3), stride=(1, 1), padding=(1, 1))\n",
       "    (1): BatchNorm2d(256, eps=1e-05, momentum=0.1, affine=True, track_running_stats=True)\n",
       "    (2): ReLU()\n",
       "    (3): Conv2d(256, 256, kernel_size=(3, 3), stride=(1, 1), padding=(1, 1))\n",
       "    (4): BatchNorm2d(256, eps=1e-05, momentum=0.1, affine=True, track_running_stats=True)\n",
       "    (5): ReLU()\n",
       "    (6): AvgPool2d(kernel_size=24, stride=24, padding=0)\n",
       "  )\n",
       "  (layer6): Sequential(\n",
       "    (0): Linear(in_features=256, out_features=256, bias=True)\n",
       "    (1): ReLU()\n",
       "  )\n",
       "  (layer7): Sequential(\n",
       "    (0): Linear(in_features=2560, out_features=1024, bias=True)\n",
       "    (1): ReLU()\n",
       "  )\n",
       "  (layer8): Sequential(\n",
       "    (0): Linear(in_features=1024, out_features=1024, bias=True)\n",
       "    (1): ReLU()\n",
       "  )\n",
       "  (layer9): Sequential(\n",
       "    (0): Linear(in_features=1024, out_features=7, bias=True)\n",
       "    (1): Softmax(dim=None)\n",
       "  )\n",
       ")"
      ]
     },
     "execution_count": 19,
     "metadata": {},
     "output_type": "execute_result"
    }
   ],
   "source": [
    "import torch.optim as optim\n",
    "\n",
    "class VGG16(nn.Module):\n",
    "    def __init__(self):\n",
    "        super(VGG16, self).__init__()\n",
    "        self.layer1 = nn.Sequential(\n",
    "\n",
    "            # 1-1 conv layer\n",
    "            nn.Conv2d(3, 64, kernel_size=3, padding=1),\n",
    "            nn.BatchNorm2d(64),\n",
    "            nn.ReLU(),\n",
    "\n",
    "            # 1-2 conv layer\n",
    "            nn.Conv2d(64, 64, kernel_size=3, padding=1),\n",
    "            nn.BatchNorm2d(64),\n",
    "            nn.ReLU(),\n",
    "\n",
    "            # 1 Pooling layer\n",
    "            nn.MaxPool2d(kernel_size=2, stride=2))\n",
    "\n",
    "        self.layer2 = nn.Sequential(\n",
    "\n",
    "            # 2-1 conv layer\n",
    "            nn.Conv2d(64, 128, kernel_size=3, padding=1),\n",
    "            nn.BatchNorm2d(128),\n",
    "            nn.ReLU(),\n",
    "\n",
    "            # 2-2 conv layer\n",
    "            nn.Conv2d(128, 128, kernel_size=3, padding=1),\n",
    "            nn.BatchNorm2d(128),\n",
    "            nn.ReLU(),\n",
    "\n",
    "            # 2 Pooling lyaer\n",
    "            nn.MaxPool2d(kernel_size=2, stride=2))\n",
    "        \n",
    "        self.layer3 = nn.Sequential(\n",
    "\n",
    "            # 3-1 conv layer\n",
    "            nn.Conv2d(128, 256, kernel_size=3, padding=1),\n",
    "            nn.BatchNorm2d(256),\n",
    "            nn.ReLU(),\n",
    "\n",
    "            # 3-2 conv layer\n",
    "            nn.Conv2d(256, 256, kernel_size=3, padding=1),\n",
    "            nn.BatchNorm2d(256),\n",
    "            nn.ReLU(),\n",
    "\n",
    "            # 3 Pooling layer\n",
    "            # nn.MaxPool2d(kernel_size=2, stride=2))\n",
    "            nn.AvgPool2d(kernel_size=24, stride=24))\n",
    "        \n",
    "\n",
    "        self.layer6 = nn.Sequential(\n",
    "            nn.Linear(256, 256),\n",
    "            # nn.Dropout(),\n",
    "            nn.ReLU())\n",
    "\n",
    "\n",
    "        self.layer7 = nn.Sequential(\n",
    "            nn.Linear(256*10, 1024),\n",
    "            # nn.Dropout(),\n",
    "            nn.ReLU())\n",
    "        \n",
    "        self.layer8 = nn.Sequential(\n",
    "            nn.Linear(1024, 1024),\n",
    "            # nn.Dropout(),\n",
    "            nn.ReLU())\n",
    "\n",
    "        self.layer9 = nn.Sequential(\n",
    "            nn.Linear(1024, 7),\n",
    "            nn.Softmax())\n",
    "\n",
    "    def forward(self, x):\n",
    "        # x.shape ==(-1,10,96,96,3)\n",
    "        out = []\n",
    "        for k in range(10):\n",
    "            #print(k)\n",
    "            f = x[:,k,:,:,:]\n",
    "            f = f.permute(0,3,1,2) \n",
    "            #（-1，3，96，96）\n",
    "            f = self.layer1(f)  \n",
    "            # (-1, 64, 48, 48)\n",
    "            f = self.layer2(f)  \n",
    "            # (-1, 128, 24, 24)\n",
    "            f = self.layer3(f)  \n",
    "            # (-1, 256, 1, 1)\n",
    "            f = f.view(f.size(0),-1)\n",
    "            # (-1, 256)\n",
    "            f = self.layer6(f)\n",
    "            # (-1, 256)\n",
    "            out.append(f)\n",
    "        out = torch.cat(out,axis=1) \n",
    "        #  (-1, 256*10)\n",
    "#         out = self.layer7(out)\n",
    "#         #  (-1, 1024)\n",
    "#         out = self.layer8(out)\n",
    "#         # (-1, 1024)\n",
    "#         out = self.layer9(out)\n",
    "#         # (-1, 7)\n",
    "        return out\n",
    "\n",
    "\n",
    "vgg16 = VGG16()\n",
    "checkpoint = torch.load('./RAFDB/2fcepoch129.pkl')\n",
    "# from collections import OrderedDict\n",
    "# new_check = OrderedDict()\n",
    "# for k, v in checkpoint.items():\n",
    "#     if 'module' not in k:\n",
    "#         k = 'module.'+k\n",
    "#     else:\n",
    "#         k = k.replace('features.module.', 'module.features.')\n",
    "#     new_check[k]=v\n",
    "\n",
    "vgg16.load_state_dict(checkpoint)\n",
    "vgg16.cuda()\n",
    "\n",
    "vgg16.eval()\n",
    "\n"
   ]
  },
  {
   "cell_type": "code",
   "execution_count": null,
   "metadata": {},
   "outputs": [],
   "source": [
    "## train\n",
    "\n",
    "gcn = GCN(256)\n",
    "gcn.cuda()\n",
    "gcn.train()\n",
    "# Loss and Optimizer\n",
    "cost = nn.CrossEntropyLoss()\n",
    "optimizer = optim.SGD(gcn.parameters(), lr=0.001, momentum=0.9, weight_decay=5e-4)\n",
    "# optimizer = torch.optim.Adam(vgg16.parameters(), lr=LEARNING_RATE)\n",
    "\n",
    "## continue\n",
    "# checkpoint_gcn = torch.load('./RAFDB/gcnepoch59.pkl')\n",
    "# gcn.load_state_dict(checkpoint_gcn['model'])\n",
    "# optimizer.load_state_dict(checkpoint_gcn['optimizer'])\n",
    "# start_epoch = checkpoint_gcn['epoch']+1\n",
    "\n",
    "# checkpoint_gcn = torch.load('./RAFDB/gcnepoch59.pkl')\n",
    "# gcn.load_state_dict(checkpoint_gcn)\n",
    "\n",
    "start_epoch = 0\n",
    "index = [i for i in range(12198)]\n",
    "random.shuffle(index)\n",
    "\n",
    "# loss_list = []\n",
    "# acc_list = []\n",
    "for epoch in range(start_epoch, 250):\n",
    "    if epoch > 100:\n",
    "        for param_group in optimizer.param_groups:\n",
    "            param_group['lr'] = 1e-4\n",
    "    if epoch > 200:\n",
    "        for param_group in optimizer.param_groups:\n",
    "            param_group['lr'] = 1e-5\n",
    "            \n",
    "    correct = 0\n",
    "    total = 0\n",
    "    for i in range(3049):\n",
    "        tmp = index[i*BATCH_SIZE:(i+1)*BATCH_SIZE]\n",
    "        img = Variable(re[tmp]).cuda()\n",
    "        outputs = vgg16(img)  #(4, 256*10)\n",
    "        outputs = outputs.reshape((-1, 10, 256))\n",
    "        label = Variable(labels[tmp]).cuda()\n",
    "        adj = adjs[tmp].cuda()\n",
    "        out = gcn.forward(outputs, adj)\n",
    "        loss = cost(out, label)\n",
    "        optimizer.zero_grad()\n",
    "        loss.backward()\n",
    "        optimizer.step()\n",
    "        _, predicted = torch.max(out.data, 1)\n",
    "        total += label.size(0)\n",
    "        correct += (predicted == label).sum()\n",
    "                         \n",
    "    print('epoch: %d' % epoch, loss.data)\n",
    "    print('Test Accuracy of the model on the train images: %d %%' % (100.0 * correct / total))\n",
    "    if (epoch+1) % 10 == 0 :\n",
    "        state = { 'model': gcn.state_dict(), 'optimizer':optimizer.state_dict(), 'epoch': epoch }   \n",
    "        torch.save(state, './RAFDB/gcnepoch{}.pkl'.format(epoch))"
   ]
  },
  {
   "cell_type": "code",
   "execution_count": 21,
   "metadata": {},
   "outputs": [
    {
     "name": "stdout",
     "output_type": "stream",
     "text": [
      "Test Accuracy of the model on the test images: 63 %\n"
     ]
    }
   ],
   "source": [
    "## test\n",
    "\n",
    "gcn =  GCN(256)\n",
    "checkpoint_gcn = torch.load('./RAFDB/gcnepoch59.pkl')\n",
    "gcn.load_state_dict(checkpoint_gcn)\n",
    "gcn.cuda()\n",
    "gcn.eval()\n",
    "index = [i for i in range(3068)]\n",
    "random.shuffle(index)\n",
    "\n",
    "# loss_list = []\n",
    "# acc_list = []\n",
    "correct = 0\n",
    "total = 0\n",
    "for i in range(767):\n",
    "    tmp = index[i*BATCH_SIZE:(i+1)*BATCH_SIZE]\n",
    "    img = Variable(re[tmp]).cuda()\n",
    "    outputs = vgg16(img)  #(4, 256*10)\n",
    "    outputs = outputs.reshape((-1, 10, 256))\n",
    "    label = Variable(labels[tmp]).cuda()\n",
    "    adj = adjs[tmp].cuda()\n",
    "    out = gcn.forward(outputs, adj)\n",
    "    _, predicted = torch.max(out.data, 1)\n",
    "    total += label.size(0)\n",
    "    correct += (predicted == label).sum()\n",
    "                         \n",
    "print('Test Accuracy of the model on the test images: %d %%' % (100.0 * correct / total))\n"
   ]
  },
  {
   "cell_type": "code",
   "execution_count": 10,
   "metadata": {},
   "outputs": [
    {
     "data": {
      "text/plain": [
       "tensor(0.0229, device='cuda:0')"
      ]
     },
     "execution_count": 10,
     "metadata": {},
     "output_type": "execute_result"
    }
   ],
   "source": [
    "100.0*correct / total"
   ]
  },
  {
   "cell_type": "code",
   "execution_count": 9,
   "metadata": {},
   "outputs": [
    {
     "data": {
      "text/plain": [
       "32044146"
      ]
     },
     "execution_count": 9,
     "metadata": {},
     "output_type": "execute_result"
    }
   ],
   "source": [
    "total\n"
   ]
  },
  {
   "cell_type": "code",
   "execution_count": null,
   "metadata": {},
   "outputs": [],
   "source": []
  }
 ],
 "metadata": {
  "kernelspec": {
   "display_name": "gpu1",
   "language": "python",
   "name": "gpu1"
  },
  "language_info": {
   "codemirror_mode": {
    "name": "ipython",
    "version": 3
   },
   "file_extension": ".py",
   "mimetype": "text/x-python",
   "name": "python",
   "nbconvert_exporter": "python",
   "pygments_lexer": "ipython3",
   "version": "3.6.9"
  }
 },
 "nbformat": 4,
 "nbformat_minor": 4
}
